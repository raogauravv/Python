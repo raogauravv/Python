{
 "cells": [
  {
   "cell_type": "markdown",
   "metadata": {},
   "source": [
    "# Write a program to print sum, average of all numbers, smallest and largest element of a list."
   ]
  },
  {
   "cell_type": "code",
   "execution_count": 1,
   "metadata": {},
   "outputs": [
    {
     "name": "stdout",
     "output_type": "stream",
     "text": [
      "Sum of the list is:  37\n",
      "Avg of the list is:  4.625\n",
      "Smallest element is: 1\n",
      "Largest element is: 8\n"
     ]
    }
   ],
   "source": [
    "l=[2,3,4,1,5,8,7,6]\n",
    "sum=0\n",
    "for i in range(len(l)):\n",
    "    sum+=l[i]\n",
    "    avg=sum/len(l)\n",
    "    l.sort()\n",
    "print(\"Sum of the list is: \",sum)\n",
    "print(\"Avg of the list is: \",avg)\n",
    "print(\"Smallest element is:\",l[0])\n",
    "print(\"Largest element is:\",l[-1])"
   ]
  },
  {
   "cell_type": "code",
   "execution_count": null,
   "metadata": {},
   "outputs": [],
   "source": []
  }
 ],
 "metadata": {
  "kernelspec": {
   "display_name": "Python 3",
   "language": "python",
   "name": "python3"
  },
  "language_info": {
   "codemirror_mode": {
    "name": "ipython",
    "version": 3
   },
   "file_extension": ".py",
   "mimetype": "text/x-python",
   "name": "python",
   "nbconvert_exporter": "python",
   "pygments_lexer": "ipython3",
   "version": "3.6.5"
  }
 },
 "nbformat": 4,
 "nbformat_minor": 2
}
