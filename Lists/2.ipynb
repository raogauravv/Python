{
 "cells": [
  {
   "cell_type": "markdown",
   "metadata": {},
   "source": [
    "# Write a program to accept marks of 6 students and display them in a sorted manner"
   ]
  },
  {
   "cell_type": "code",
   "execution_count": 1,
   "metadata": {},
   "outputs": [
    {
     "name": "stdout",
     "output_type": "stream",
     "text": [
      "Enter the marks of student 1\n",
      "10\n",
      "Enter the marks of student 2\n",
      "5\n",
      "Enter the marks of student 3\n",
      "3\n",
      "Enter the marks of student 4\n",
      "7\n",
      "Enter the marks of student 5\n",
      "6\n",
      "Enter the marks of student 6\n",
      "8\n",
      "[3, 5, 6, 7, 8, 10]\n"
     ]
    }
   ],
   "source": [
    "marks=[]\n",
    "total_students=6\n",
    "i=1\n",
    "while i<=total_students:\n",
    "    print(\"Enter the marks of student\",i)\n",
    "    marks_obtained=int(input())\n",
    "    marks.append(marks_obtained)\n",
    "    i+=1\n",
    "\n",
    "marks.sort()\n",
    "print(marks)"
   ]
  },
  {
   "cell_type": "code",
   "execution_count": null,
   "metadata": {},
   "outputs": [],
   "source": []
  }
 ],
 "metadata": {
  "kernelspec": {
   "display_name": "Python 3",
   "language": "python",
   "name": "python3"
  },
  "language_info": {
   "codemirror_mode": {
    "name": "ipython",
    "version": 3
   },
   "file_extension": ".py",
   "mimetype": "text/x-python",
   "name": "python",
   "nbconvert_exporter": "python",
   "pygments_lexer": "ipython3",
   "version": "3.6.5"
  }
 },
 "nbformat": 4,
 "nbformat_minor": 2
}
