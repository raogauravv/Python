{
 "cells": [
  {
   "cell_type": "markdown",
   "metadata": {},
   "source": [
    "# Write a program to check if elements of a list are same or not it read from front or back. E.g.-\n",
    "# 2\t3\t15\t15\t3\t2\n"
   ]
  },
  {
   "cell_type": "code",
   "execution_count": 1,
   "metadata": {},
   "outputs": [
    {
     "name": "stdout",
     "output_type": "stream",
     "text": [
      "[2, 3, 15]\n",
      "[2, 3, 15]\n",
      "The numbers are same\n"
     ]
    }
   ],
   "source": [
    "l=[2,3,15,15,3,2]\n",
    "l1=[]\n",
    "l2=[]\n",
    "i=0\n",
    "while i<len(l)//2:\n",
    "    l1.append(l[i])\n",
    "    i+=1\n",
    "print(l1)\n",
    "\n",
    "i=len(l)-1\n",
    "while i>=len(l)//2:\n",
    "    l2.append(l[i])\n",
    "    i-=1\n",
    "print(l2)\n",
    "\n",
    "flag=True\n",
    "for i in range(len(l)//2):\n",
    "    if l1[i]!=l2[i]:\n",
    "        flag=False\n",
    "\n",
    "if flag==True:\n",
    "    print(\"The numbers are same\")\n",
    "    \n",
    "else:\n",
    "    print(\"The numbers are not same\")"
   ]
  },
  {
   "cell_type": "code",
   "execution_count": null,
   "metadata": {},
   "outputs": [],
   "source": []
  }
 ],
 "metadata": {
  "kernelspec": {
   "display_name": "Python 3",
   "language": "python",
   "name": "python3"
  },
  "language_info": {
   "codemirror_mode": {
    "name": "ipython",
    "version": 3
   },
   "file_extension": ".py",
   "mimetype": "text/x-python",
   "name": "python",
   "nbconvert_exporter": "python",
   "pygments_lexer": "ipython3",
   "version": "3.6.5"
  }
 },
 "nbformat": 4,
 "nbformat_minor": 2
}
