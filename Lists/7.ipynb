{
 "cells": [
  {
   "cell_type": "markdown",
   "metadata": {},
   "source": [
    "# Take 20 integer inputs from user and print the following:\n",
    "## number of positive numbers\n",
    "## number of negative numbers\n",
    "## number of odd numbers\n",
    "## number of even numbers\n",
    "## number of 0s."
   ]
  },
  {
   "cell_type": "code",
   "execution_count": 1,
   "metadata": {},
   "outputs": [
    {
     "name": "stdout",
     "output_type": "stream",
     "text": [
      "1\n",
      "0\n",
      "2\n",
      "0\n",
      "-5\n",
      "-6\n",
      "0\n",
      "3\n",
      "4\n",
      "55\n",
      "-89\n",
      "20001\n",
      "20000000\n",
      "-43\n",
      "0\n",
      "0\n",
      "132\n",
      "12\n",
      "15\n",
      "-8\n",
      "Number of positives:  10\n",
      "Number of negatives:  5\n",
      "Number of odd numbers:  8\n",
      "Number of even numbers:  12\n",
      "Number of zeroes:  5\n"
     ]
    }
   ],
   "source": [
    "n=20\n",
    "l=[]\n",
    "positives=0\n",
    "negatives=0\n",
    "odd_number=0\n",
    "even_number=0\n",
    "zero=0\n",
    "for i in range(n):\n",
    "    a=int(input())\n",
    "    l.append(a)\n",
    "#print(l)\n",
    "    if l[i]>0:\n",
    "        positives+=1\n",
    "    if l[i]<0:\n",
    "        negatives+=1\n",
    "    if l[i]%2!=0:\n",
    "        odd_number+=1\n",
    "    if l[i]%2==0:\n",
    "        even_number+=1\n",
    "    if l[i]==0:\n",
    "        zero+=1\n",
    "print(\"Number of positives: \",positives)\n",
    "print(\"Number of negatives: \",negatives)\n",
    "print(\"Number of odd numbers: \",odd_number)\n",
    "print(\"Number of even numbers: \",even_number)\n",
    "print(\"Number of zeroes: \",zero)\n",
    "        "
   ]
  },
  {
   "cell_type": "code",
   "execution_count": null,
   "metadata": {},
   "outputs": [],
   "source": []
  }
 ],
 "metadata": {
  "kernelspec": {
   "display_name": "Python 3",
   "language": "python",
   "name": "python3"
  },
  "language_info": {
   "codemirror_mode": {
    "name": "ipython",
    "version": 3
   },
   "file_extension": ".py",
   "mimetype": "text/x-python",
   "name": "python",
   "nbconvert_exporter": "python",
   "pygments_lexer": "ipython3",
   "version": "3.6.5"
  }
 },
 "nbformat": 4,
 "nbformat_minor": 2
}
