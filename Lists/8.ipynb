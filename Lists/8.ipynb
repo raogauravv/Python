{
 "cells": [
  {
   "cell_type": "markdown",
   "metadata": {},
   "source": [
    "# Take 10 integer inputs from user and store them in a list. Now, copy all the elements in another list but in reverse order."
   ]
  },
  {
   "cell_type": "code",
   "execution_count": 1,
   "metadata": {},
   "outputs": [
    {
     "name": "stdout",
     "output_type": "stream",
     "text": [
      "5\n",
      "3\n",
      "6\n",
      "8\n",
      "1\n",
      "2\n",
      "9\n",
      "14\n",
      "18\n",
      "13\n",
      "The original list is:  [5, 3, 6, 8, 1, 2, 9, 14, 18, 13]\n",
      "The reversed list is : [13, 18, 14, 9, 2, 1, 8, 6, 3, 5]\n"
     ]
    }
   ],
   "source": [
    "i=10\n",
    "l=[]\n",
    "l2=[]\n",
    "for i in range(i):\n",
    "    a=int(input())\n",
    "    l.append(a)\n",
    "print(\"The original list is: \",l)\n",
    "i=len(l)-1\n",
    "while i>=0:\n",
    "    l2.append(l[i])\n",
    "    i-=1\n",
    "print(\"The reversed list is :\",l2)"
   ]
  },
  {
   "cell_type": "markdown",
   "metadata": {},
   "source": []
  }
 ],
 "metadata": {
  "kernelspec": {
   "display_name": "Python 3",
   "language": "python",
   "name": "python3"
  },
  "language_info": {
   "codemirror_mode": {
    "name": "ipython",
    "version": 3
   },
   "file_extension": ".py",
   "mimetype": "text/x-python",
   "name": "python",
   "nbconvert_exporter": "python",
   "pygments_lexer": "ipython3",
   "version": "3.6.5"
  }
 },
 "nbformat": 4,
 "nbformat_minor": 2
}
