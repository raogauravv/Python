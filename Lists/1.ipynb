{
 "cells": [
  {
   "cell_type": "markdown",
   "metadata": {},
   "source": [
    "# Write a program to store seven fruits in a list entered by the user\n"
   ]
  },
  {
   "cell_type": "code",
   "execution_count": 1,
   "metadata": {},
   "outputs": [
    {
     "name": "stdout",
     "output_type": "stream",
     "text": [
      "Enter the fruit 1\n",
      "Banana\n",
      "Enter the fruit 2\n",
      "Apple\n",
      "Enter the fruit 3\n",
      "Mango\n",
      "Enter the fruit 4\n",
      "Grapes\n",
      "Enter the fruit 5\n",
      "Kiwi\n",
      "Enter the fruit 6\n",
      "Papaya\n",
      "Enter the fruit 7\n",
      "Orange\n",
      "['Banana', 'Apple', 'Mango', 'Grapes', 'Kiwi', 'Papaya', 'Orange']\n"
     ]
    }
   ],
   "source": [
    "n=7\n",
    "i=1\n",
    "fruits=[]\n",
    "while i<=n:\n",
    "    print(\"Enter the fruit\",i)\n",
    "    a=input()\n",
    "    fruits.append(a)\n",
    "    i+=1\n",
    "print(fruits)"
   ]
  },
  {
   "cell_type": "code",
   "execution_count": null,
   "metadata": {},
   "outputs": [],
   "source": []
  }
 ],
 "metadata": {
  "kernelspec": {
   "display_name": "Python 3",
   "language": "python",
   "name": "python3"
  },
  "language_info": {
   "codemirror_mode": {
    "name": "ipython",
    "version": 3
   },
   "file_extension": ".py",
   "mimetype": "text/x-python",
   "name": "python",
   "nbconvert_exporter": "python",
   "pygments_lexer": "ipython3",
   "version": "3.6.5"
  }
 },
 "nbformat": 4,
 "nbformat_minor": 2
}
