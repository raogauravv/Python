{
 "cells": [
  {
   "cell_type": "markdown",
   "metadata": {},
   "source": [
    "# Write a program to make a new string with the word \"the\" deleted in the sentence \"This is the lion in the cage\"."
   ]
  },
  {
   "cell_type": "code",
   "execution_count": 1,
   "metadata": {},
   "outputs": [
    {
     "name": "stdout",
     "output_type": "stream",
     "text": [
      "This is lion in cage\n"
     ]
    }
   ],
   "source": [
    "string=\"This is the lion in the cage\"\n",
    "list=[]\n",
    "a=string.split()\n",
    "#print(a)\n",
    "\n",
    "for i in range(len(a)):\n",
    "    if a[i]!=\"the\":\n",
    "        list.append(a[i])\n",
    "#print(list)\n",
    " \n",
    "string_new=\" \"\n",
    "string_new=string_new.join(list)\n",
    "print(string_new)"
   ]
  },
  {
   "cell_type": "code",
   "execution_count": null,
   "metadata": {},
   "outputs": [],
   "source": []
  }
 ],
 "metadata": {
  "kernelspec": {
   "display_name": "Python 3",
   "language": "python",
   "name": "python3"
  },
  "language_info": {
   "codemirror_mode": {
    "name": "ipython",
    "version": 3
   },
   "file_extension": ".py",
   "mimetype": "text/x-python",
   "name": "python",
   "nbconvert_exporter": "python",
   "pygments_lexer": "ipython3",
   "version": "3.6.5"
  }
 },
 "nbformat": 4,
 "nbformat_minor": 2
}
