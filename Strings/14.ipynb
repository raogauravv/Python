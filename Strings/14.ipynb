{
 "cells": [
  {
   "cell_type": "markdown",
   "metadata": {},
   "source": [
    "# Write a program to make a new string with all the consonents deleted from the string \"Hello, have a good day\"."
   ]
  },
  {
   "cell_type": "code",
   "execution_count": 1,
   "metadata": {},
   "outputs": [
    {
     "name": "stdout",
     "output_type": "stream",
     "text": [
      "Hll,hv  gd dy\n"
     ]
    }
   ],
   "source": [
    "string=\"Hello,have a good day\"\n",
    "list=[]\n",
    "vowels='a','e','i','o','u',\"A\",\"E\",\"I\",\"O\",\"U\"\n",
    "for i in range(len(string)):\n",
    "    #print(string[i])\n",
    "    \n",
    "    if string[i] not in vowels:\n",
    "        list.append(string[i])\n",
    "#print(list)\n",
    "\n",
    "def listtostring(list):\n",
    "    st=\"\"\n",
    "    return (st.join(list))\n",
    "print(listtostring(list))\n",
    "        "
   ]
  },
  {
   "cell_type": "code",
   "execution_count": null,
   "metadata": {},
   "outputs": [],
   "source": []
  }
 ],
 "metadata": {
  "kernelspec": {
   "display_name": "Python 3",
   "language": "python",
   "name": "python3"
  },
  "language_info": {
   "codemirror_mode": {
    "name": "ipython",
    "version": 3
   },
   "file_extension": ".py",
   "mimetype": "text/x-python",
   "name": "python",
   "nbconvert_exporter": "python",
   "pygments_lexer": "ipython3",
   "version": "3.6.5"
  }
 },
 "nbformat": 4,
 "nbformat_minor": 2
}
