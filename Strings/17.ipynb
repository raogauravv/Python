{
 "cells": [
  {
   "cell_type": "markdown",
   "metadata": {},
   "source": [
    "# Write down the names of 10 of your friends in a list and then sort those in alphabetically ascending order."
   ]
  },
  {
   "cell_type": "code",
   "execution_count": 1,
   "metadata": {},
   "outputs": [
    {
     "name": "stdout",
     "output_type": "stream",
     "text": [
      "Enter the name of friend 1\n",
      "gaurav\n",
      "Enter the name of friend 2\n",
      "nitish\n",
      "Enter the name of friend 3\n",
      "tushar\n",
      "Enter the name of friend 4\n",
      "manisha\n",
      "Enter the name of friend 5\n",
      "deepak\n",
      "Enter the name of friend 6\n",
      "harish\n",
      "Enter the name of friend 7\n",
      "kavita\n",
      "Enter the name of friend 8\n",
      "mohini\n",
      "Enter the name of friend 9\n",
      "parikshit\n",
      "Enter the name of friend 10\n",
      "anaya\n",
      "['anaya', 'deepak', 'gaurav', 'harish', 'kavita', 'manisha', 'mohini', 'nitish', 'parikshit', 'tushar']\n"
     ]
    }
   ],
   "source": [
    "list=[]\n",
    "a=10\n",
    "for i in range(1,a+1):\n",
    "    print(\"Enter the name of friend\",i)\n",
    "    b=input()\n",
    "    list.append(b)\n",
    "list.sort()\n",
    "print(list)"
   ]
  },
  {
   "cell_type": "code",
   "execution_count": null,
   "metadata": {},
   "outputs": [],
   "source": []
  }
 ],
 "metadata": {
  "kernelspec": {
   "display_name": "Python 3",
   "language": "python",
   "name": "python3"
  },
  "language_info": {
   "codemirror_mode": {
    "name": "ipython",
    "version": 3
   },
   "file_extension": ".py",
   "mimetype": "text/x-python",
   "name": "python",
   "nbconvert_exporter": "python",
   "pygments_lexer": "ipython3",
   "version": "3.6.5"
  }
 },
 "nbformat": 4,
 "nbformat_minor": 2
}
