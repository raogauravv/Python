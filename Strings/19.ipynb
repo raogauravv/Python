{
 "cells": [
  {
   "cell_type": "markdown",
   "metadata": {},
   "source": [
    "# Write a program to check if the two strings entered by user are anagrams or not. Two words are said to be anagrams if the letters of one word can be rearranged to form the other word. For example, jaxa and ajax are anagrams of each other."
   ]
  },
  {
   "cell_type": "code",
   "execution_count": 1,
   "metadata": {},
   "outputs": [
    {
     "name": "stdout",
     "output_type": "stream",
     "text": [
      "Yes the 2 strings are anagrams\n"
     ]
    }
   ],
   "source": [
    "s1=\"jaxa\"\n",
    "s2=\"ajax\"\n",
    "l1=[]\n",
    "l2=[]\n",
    "for i in range(len(s1)):\n",
    "    l1.append(s1[i])\n",
    "for i in range(len(s2)):\n",
    "    l2.append(s2[i])\n",
    "#print(l1)\n",
    "#print(l2)\n",
    "for i in range(len(l1)):\n",
    "    if len(l1)!=len(l2):\n",
    "        print(\"No the 2 strings are not anagrams\")\n",
    "        break\n",
    "    if l2[i] in l1:\n",
    "        print(\"Yes the 2 strings are anagrams\")\n",
    "        break"
   ]
  },
  {
   "cell_type": "code",
   "execution_count": null,
   "metadata": {},
   "outputs": [],
   "source": []
  }
 ],
 "metadata": {
  "kernelspec": {
   "display_name": "Python 3",
   "language": "python",
   "name": "python3"
  },
  "language_info": {
   "codemirror_mode": {
    "name": "ipython",
    "version": 3
   },
   "file_extension": ".py",
   "mimetype": "text/x-python",
   "name": "python",
   "nbconvert_exporter": "python",
   "pygments_lexer": "ipython3",
   "version": "3.6.5"
  }
 },
 "nbformat": 4,
 "nbformat_minor": 2
}
