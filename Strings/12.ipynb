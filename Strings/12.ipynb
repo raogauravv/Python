{
 "cells": [
  {
   "cell_type": "markdown",
   "metadata": {},
   "source": [
    "# Check the occurrence of the letter 'e' and the word 'is' in the sentence \"This is umbrella\"."
   ]
  },
  {
   "cell_type": "code",
   "execution_count": 1,
   "metadata": {},
   "outputs": [
    {
     "name": "stdout",
     "output_type": "stream",
     "text": [
      "'is' is present at position:  2\n",
      "'is' is present at position:  5\n",
      "'e' is present at position:  12\n"
     ]
    }
   ],
   "source": [
    "string=\"This is umbrella\"\n",
    "i=0\n",
    "while i<len(string):\n",
    "    if \"e\"==string[i]:\n",
    "        print(\"\\'e\\' is present at position: \",i)\n",
    "    \n",
    "    if \"is\"==string[i:i+2]:\n",
    "        print(\"\\'is\\' is present at position: \",i)\n",
    "    i+=1\n",
    "    \n",
    "    "
   ]
  },
  {
   "cell_type": "code",
   "execution_count": null,
   "metadata": {},
   "outputs": [],
   "source": []
  }
 ],
 "metadata": {
  "kernelspec": {
   "display_name": "Python 3",
   "language": "python",
   "name": "python3"
  },
  "language_info": {
   "codemirror_mode": {
    "name": "ipython",
    "version": 3
   },
   "file_extension": ".py",
   "mimetype": "text/x-python",
   "name": "python",
   "nbconvert_exporter": "python",
   "pygments_lexer": "ipython3",
   "version": "3.6.5"
  }
 },
 "nbformat": 4,
 "nbformat_minor": 2
}
