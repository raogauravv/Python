{
 "cells": [
  {
   "cell_type": "markdown",
   "metadata": {},
   "source": [
    "# Write a program to find the number of vowels, consonents, digits and white space characters in a string."
   ]
  },
  {
   "cell_type": "code",
   "execution_count": 1,
   "metadata": {},
   "outputs": [
    {
     "name": "stdout",
     "output_type": "stream",
     "text": [
      "Number of vowels: 6\n",
      "Number of consonents: 14\n",
      "number of white spaces: 5\n",
      "Number of digits: 3\n"
     ]
    }
   ],
   "source": [
    "a=\"Gaurav is good 2 2 2\"\n",
    "vowels=('a','e','i','o','u',\"A\",\"E\",\"I\",\"O\",\"U\")\n",
    "count1=0\n",
    "count2=0\n",
    "count3=0\n",
    "count4=0\n",
    "for i in range(len(a)):\n",
    "    b=(a[i])\n",
    "    if b in vowels:\n",
    "        count1+=1\n",
    "    else:\n",
    "        count2+=1\n",
    "        \n",
    "    if a[i].isspace():\n",
    "        count3+=1\n",
    "    \n",
    "    if a[i].isdigit():\n",
    "        count4+=1\n",
    "\n",
    "    \n",
    "print(\"Number of vowels:\",count1)\n",
    "print(\"Number of consonents:\",count2)\n",
    "print(\"number of white spaces:\",count3)\n",
    "print(\"Number of digits:\",count4)"
   ]
  },
  {
   "cell_type": "code",
   "execution_count": null,
   "metadata": {},
   "outputs": [],
   "source": []
  }
 ],
 "metadata": {
  "kernelspec": {
   "display_name": "Python 3",
   "language": "python",
   "name": "python3"
  },
  "language_info": {
   "codemirror_mode": {
    "name": "ipython",
    "version": 3
   },
   "file_extension": ".py",
   "mimetype": "text/x-python",
   "name": "python",
   "nbconvert_exporter": "python",
   "pygments_lexer": "ipython3",
   "version": "3.6.5"
  }
 },
 "nbformat": 4,
 "nbformat_minor": 2
}
