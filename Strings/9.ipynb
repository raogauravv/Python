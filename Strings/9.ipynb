{
 "cells": [
  {
   "cell_type": "markdown",
   "metadata": {},
   "source": [
    "# Write a program to find the first and the last occurence of the letter 'o' and character ',' in \"Hello, World,\"."
   ]
  },
  {
   "cell_type": "code",
   "execution_count": 1,
   "metadata": {},
   "outputs": [
    {
     "name": "stdout",
     "output_type": "stream",
     "text": [
      "First occurance of 'o' is at position 4\n",
      "Last occurance of 'o' is at position 8\n",
      "First occurance of ',' is at position 5\n",
      "Last occurance of ',' is at position 12\n"
     ]
    }
   ],
   "source": [
    "string=\"Hello, World,\"\n",
    "i=0\n",
    "while i<len(string):\n",
    "    if \"o\"==string[i]:\n",
    "        print(\"First occurance of \\'o\\' is at position\",i)\n",
    "        break\n",
    "    i+=1\n",
    "i=len(string)-1\n",
    "while i>0:\n",
    "    if \"o\"==string[i]:\n",
    "        print(\"Last occurance of \\'o\\' is at position\",i)\n",
    "        break\n",
    "    i-=1\n",
    "\n",
    "i=0\n",
    "while i<len(string):\n",
    "    if \",\"==string[i]:\n",
    "        print(\"First occurance of \\',\\' is at position\",i)\n",
    "        break\n",
    "    i+=1\n",
    "\n",
    "i=len(string)-1\n",
    "while i>0:\n",
    "    if \",\"==string[i]:\n",
    "        print(\"Last occurance of \\',\\' is at position\",i)\n",
    "        break\n",
    "    i-=1\n"
   ]
  }
 ],
 "metadata": {
  "kernelspec": {
   "display_name": "Python 3",
   "language": "python",
   "name": "python3"
  },
  "language_info": {
   "codemirror_mode": {
    "name": "ipython",
    "version": 3
   },
   "file_extension": ".py",
   "mimetype": "text/x-python",
   "name": "python",
   "nbconvert_exporter": "python",
   "pygments_lexer": "ipython3",
   "version": "3.6.5"
  }
 },
 "nbformat": 4,
 "nbformat_minor": 2
}
