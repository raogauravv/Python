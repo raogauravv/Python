{
 "cells": [
  {
   "cell_type": "markdown",
   "metadata": {},
   "source": [
    "# Write the string after the first occurrence of ',' and the string after the last occurrence of ',' in the string \"Hello,Good,Morning World\"."
   ]
  },
  {
   "cell_type": "code",
   "execution_count": 1,
   "metadata": {},
   "outputs": [
    {
     "name": "stdout",
     "output_type": "stream",
     "text": [
      "After first occurance:\n",
      "Good,Morning World\n",
      "\n",
      "After last occurance:\n",
      "Morning World\n"
     ]
    }
   ],
   "source": [
    "string=\"Hello,Good,Morning World\"\n",
    "i=0\n",
    "while i<len(string):\n",
    "    if \",\"==string[i]:\n",
    "        #print(i)\n",
    "        break\n",
    "    i+=1\n",
    "print(\"After first occurance:\\n\"+string[i+1:])\n",
    "\n",
    "i=len(string)-1\n",
    "while i>0:\n",
    "    if \",\"==string[i]:\n",
    "        break\n",
    "    i-=1\n",
    "print(\"\\nAfter last occurance:\\n\"+string[i+1:])"
   ]
  }
 ],
 "metadata": {
  "kernelspec": {
   "display_name": "Python 3",
   "language": "python",
   "name": "python3"
  },
  "language_info": {
   "codemirror_mode": {
    "name": "ipython",
    "version": 3
   },
   "file_extension": ".py",
   "mimetype": "text/x-python",
   "name": "python",
   "nbconvert_exporter": "python",
   "pygments_lexer": "ipython3",
   "version": "3.6.5"
  }
 },
 "nbformat": 4,
 "nbformat_minor": 2
}
