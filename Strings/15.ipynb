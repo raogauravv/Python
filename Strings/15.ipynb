{
 "cells": [
  {
   "cell_type": "markdown",
   "metadata": {},
   "source": [
    "# Write a program to find out the largest and smallest word in the string \"This is an umbrella\"."
   ]
  },
  {
   "cell_type": "code",
   "execution_count": 2,
   "metadata": {},
   "outputs": [
    {
     "name": "stdout",
     "output_type": "stream",
     "text": [
      "String: This is an umbrella\n",
      "Largest word in the string is: umbrella\n",
      "Smallest word in the string is: is\n"
     ]
    }
   ],
   "source": [
    "string=\"This is an umbrella\"\n",
    "print(\"String:\",string)\n",
    "list=string.split()\n",
    "#print(list)\n",
    "max_len=len(list[0])\n",
    "maxi=list[0]\n",
    "min_len=len(list[0])\n",
    "mini=list[0]\n",
    "for i in list:\n",
    "    if len(i)>max_len:\n",
    "        max_len=len(i)\n",
    "        maxi=i\n",
    "    if len(i)<min_len:\n",
    "        min_len=len(i)\n",
    "        mini=i\n",
    "print(\"Largest word in the string is:\",maxi)\n",
    "print(\"Smallest word in the string is:\",mini)"
   ]
  },
  {
   "cell_type": "code",
   "execution_count": null,
   "metadata": {},
   "outputs": [],
   "source": []
  }
 ],
 "metadata": {
  "kernelspec": {
   "display_name": "Python 3",
   "language": "python",
   "name": "python3"
  },
  "language_info": {
   "codemirror_mode": {
    "name": "ipython",
    "version": 3
   },
   "file_extension": ".py",
   "mimetype": "text/x-python",
   "name": "python",
   "nbconvert_exporter": "python",
   "pygments_lexer": "ipython3",
   "version": "3.6.5"
  }
 },
 "nbformat": 4,
 "nbformat_minor": 2
}
