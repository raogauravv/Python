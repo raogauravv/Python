{
 "cells": [
  {
   "cell_type": "markdown",
   "metadata": {},
   "source": [
    "# Write a program to check if a given string is a Palindrome.A palindrome reads same from front and back e.g.- aba, ccaacc, mom, etc."
   ]
  },
  {
   "cell_type": "code",
   "execution_count": 1,
   "metadata": {},
   "outputs": [
    {
     "name": "stdout",
     "output_type": "stream",
     "text": [
      "Enter the string: mom\n",
      "It is a palindrome\n"
     ]
    }
   ],
   "source": [
    "string=input(\"Enter the string: \")\n",
    "list1=[]\n",
    "list2=[]\n",
    "for i in range(len(string)):\n",
    "    list1.append(string[i])\n",
    "#print(list1)\n",
    "a=len(string)\n",
    "while i>=0:\n",
    "    list2.append(string[i])\n",
    "    i-=1\n",
    "#print(list2)\n",
    "\n",
    "for i in range(len(string)):\n",
    "    if list1[i]==list2[i]:\n",
    "        print(\"It is a palindrome\")\n",
    "        break\n",
    "    else:\n",
    "        print(\"It is not a palindrome\")\n",
    "        break"
   ]
  },
  {
   "cell_type": "code",
   "execution_count": null,
   "metadata": {},
   "outputs": [],
   "source": []
  }
 ],
 "metadata": {
  "kernelspec": {
   "display_name": "Python 3",
   "language": "python",
   "name": "python3"
  },
  "language_info": {
   "codemirror_mode": {
    "name": "ipython",
    "version": 3
   },
   "file_extension": ".py",
   "mimetype": "text/x-python",
   "name": "python",
   "nbconvert_exporter": "python",
   "pygments_lexer": "ipython3",
   "version": "3.6.5"
  }
 },
 "nbformat": 4,
 "nbformat_minor": 2
}
