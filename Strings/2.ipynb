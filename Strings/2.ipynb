{
 "cells": [
  {
   "cell_type": "markdown",
   "metadata": {},
   "source": [
    "# Write a python program to fill in a letter template given below with name and date\n",
    "# Letter='''Dear <|Name|>\n",
    "#                You are selected\n",
    " #               <|Date|>'''"
   ]
  },
  {
   "cell_type": "code",
   "execution_count": 1,
   "metadata": {},
   "outputs": [
    {
     "name": "stdout",
     "output_type": "stream",
     "text": [
      "Enter your name: Gaurav\n",
      "Enter Date: 2 november\n",
      "Dear Gaurav,\n",
      "     You are seleted\n",
      "2 november\n"
     ]
    }
   ],
   "source": [
    "name=input(\"Enter your name: \")\n",
    "date=input(\"Enter Date: \")\n",
    "letter='''Dear <|Name|>,\n",
    "     You are seleted\n",
    "<|Date|>'''\n",
    "#print(letter)\n",
    "letter=letter.replace(\"<|Name|>\",name)\n",
    "letter=letter.replace(\"<|Date|>\",date)\n",
    "print(letter)"
   ]
  }
 ],
 "metadata": {
  "kernelspec": {
   "display_name": "Python 3",
   "language": "python",
   "name": "python3"
  },
  "language_info": {
   "codemirror_mode": {
    "name": "ipython",
    "version": 3
   },
   "file_extension": ".py",
   "mimetype": "text/x-python",
   "name": "python",
   "nbconvert_exporter": "python",
   "pygments_lexer": "ipython3",
   "version": "3.6.5"
  }
 },
 "nbformat": 4,
 "nbformat_minor": 2
}
