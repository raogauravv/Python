{
 "cells": [
  {
   "cell_type": "markdown",
   "metadata": {},
   "source": [
    "# Write a python program to print multiplication table of n using while loop in reverse order"
   ]
  },
  {
   "cell_type": "code",
   "execution_count": 6,
   "metadata": {},
   "outputs": [
    {
     "name": "stdout",
     "output_type": "stream",
     "text": [
      "Enter the number: 3\n",
      "3 * 10 = 30\n",
      "3 * 9 = 27\n",
      "3 * 8 = 24\n",
      "3 * 7 = 21\n",
      "3 * 6 = 18\n",
      "3 * 5 = 15\n",
      "3 * 4 = 12\n",
      "3 * 3 = 9\n",
      "3 * 2 = 6\n",
      "3 * 1 = 3\n"
     ]
    }
   ],
   "source": [
    "n=int(input(\"Enter the number: \"))\n",
    "i=10\n",
    "while i>=1:\n",
    "    print(n,\"*\",i,\"=\",n*i)\n",
    "    i-=1"
   ]
  }
 ],
 "metadata": {
  "kernelspec": {
   "display_name": "Python 3",
   "language": "python",
   "name": "python3"
  },
  "language_info": {
   "codemirror_mode": {
    "name": "ipython",
    "version": 3
   },
   "file_extension": ".py",
   "mimetype": "text/x-python",
   "name": "python",
   "nbconvert_exporter": "python",
   "pygments_lexer": "ipython3",
   "version": "3.6.5"
  }
 },
 "nbformat": 4,
 "nbformat_minor": 2
}
