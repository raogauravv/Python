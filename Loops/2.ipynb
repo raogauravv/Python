{
 "cells": [
  {
   "cell_type": "markdown",
   "metadata": {},
   "source": [
    "# Write a program to greet all the person names stored in a list l1 and which starts with S\n",
    "### l1=[\"Harry\",\"Sohan\",\"Sachin\",\"Rahul\"]"
   ]
  },
  {
   "cell_type": "code",
   "execution_count": 1,
   "metadata": {},
   "outputs": [
    {
     "name": "stdout",
     "output_type": "stream",
     "text": [
      "Hello Sohan\n",
      "Hello Sachin\n"
     ]
    }
   ],
   "source": [
    "l1=[\"Harry\",\"Sohan\",\"Sachin\",\"Rahul\"]\n",
    "for a in l1:\n",
    "    if a.startswith(\"S\"):\n",
    "        print(\"Hello\",a)"
   ]
  },
  {
   "cell_type": "code",
   "execution_count": null,
   "metadata": {},
   "outputs": [],
   "source": []
  }
 ],
 "metadata": {
  "kernelspec": {
   "display_name": "Python 3",
   "language": "python",
   "name": "python3"
  },
  "language_info": {
   "codemirror_mode": {
    "name": "ipython",
    "version": 3
   },
   "file_extension": ".py",
   "mimetype": "text/x-python",
   "name": "python",
   "nbconvert_exporter": "python",
   "pygments_lexer": "ipython3",
   "version": "3.6.5"
  }
 },
 "nbformat": 4,
 "nbformat_minor": 2
}
