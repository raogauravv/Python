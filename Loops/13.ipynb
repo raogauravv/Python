{
 "cells": [
  {
   "cell_type": "markdown",
   "metadata": {},
   "source": [
    "# From a list containing ints, strings and floats, make three lists to store them separately."
   ]
  },
  {
   "cell_type": "code",
   "execution_count": 1,
   "metadata": {},
   "outputs": [
    {
     "name": "stdout",
     "output_type": "stream",
     "text": [
      "[1, 2, 3]\n",
      "[1.1, 2.2, 3.3]\n",
      "['g', 'a', 'u']\n"
     ]
    }
   ],
   "source": [
    "l=[1,2,3,'g','a','u',1.1,2.2,3.3]\n",
    "l1=[]\n",
    "l2=[]\n",
    "l3=[]\n",
    "for i in range(len(l)):\n",
    "    if type(l[i])==int:\n",
    "        l1.append(l[i])\n",
    "    if type(l[i])==float:\n",
    "        l2.append(l[i])\n",
    "    if type(l[i])==str:\n",
    "        l3.append(l[i])\n",
    "print(l1)\n",
    "print(l2)\n",
    "print(l3)"
   ]
  }
 ],
 "metadata": {
  "kernelspec": {
   "display_name": "Python 3",
   "language": "python",
   "name": "python3"
  },
  "language_info": {
   "codemirror_mode": {
    "name": "ipython",
    "version": 3
   },
   "file_extension": ".py",
   "mimetype": "text/x-python",
   "name": "python",
   "nbconvert_exporter": "python",
   "pygments_lexer": "ipython3",
   "version": "3.6.5"
  }
 },
 "nbformat": 4,
 "nbformat_minor": 2
}
