{
 "cells": [
  {
   "cell_type": "markdown",
   "metadata": {},
   "source": [
    "# Take inputs from user to make a list. Again take one input from user and search it in the list and delete that element, if found. Iterate over list using for loop."
   ]
  },
  {
   "cell_type": "code",
   "execution_count": 1,
   "metadata": {},
   "outputs": [
    {
     "name": "stdout",
     "output_type": "stream",
     "text": [
      "Enter the number of items you want in the list: 5\n",
      "Enter the number: 12\n",
      "Enter the number: 32\n",
      "Enter the number: 44\n",
      "Enter the number: 55\n",
      "Enter the number: 34\n",
      "[12, 32, 44, 55, 34]\n",
      "Enter the number that you want to search: 32\n",
      "Number is present in the list\n",
      "List after deletion of the number is:  [12, 44, 55, 34]\n"
     ]
    }
   ],
   "source": [
    "n1=int(input(\"Enter the number of items you want in the list: \"))\n",
    "list=[]\n",
    "for i in range(n1):\n",
    "    n2=int(input(\"Enter the number: \"))\n",
    "    list.append(n2)\n",
    "print(list)\n",
    "n3=int(input(\"Enter the number that you want to search: \"))\n",
    "if n3 in list:\n",
    "    print(\"Number is present in the list\")\n",
    "else:\n",
    "    print(\"Number is not present in the list\")\n",
    "\n",
    "for i in range(len(list)):\n",
    "    if n3==list[i-1]:\n",
    "        list.pop(i-1)\n",
    "print(\"List after deletion of the number is: \",list)"
   ]
  },
  {
   "cell_type": "code",
   "execution_count": null,
   "metadata": {},
   "outputs": [],
   "source": []
  }
 ],
 "metadata": {
  "kernelspec": {
   "display_name": "Python 3",
   "language": "python",
   "name": "python3"
  },
  "language_info": {
   "codemirror_mode": {
    "name": "ipython",
    "version": 3
   },
   "file_extension": ".py",
   "mimetype": "text/x-python",
   "name": "python",
   "nbconvert_exporter": "python",
   "pygments_lexer": "ipython3",
   "version": "3.6.5"
  }
 },
 "nbformat": 4,
 "nbformat_minor": 2
}
