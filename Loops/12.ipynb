{
 "cells": [
  {
   "cell_type": "markdown",
   "metadata": {},
   "source": [
    "# From the two list obtained in previous question, make new lists, containing only numbers which are divisible by 4, 6, 8, 10, 3, 5, 7 and 9 in separate lists.\n"
   ]
  },
  {
   "cell_type": "code",
   "execution_count": 2,
   "metadata": {},
   "outputs": [
    {
     "name": "stdout",
     "output_type": "stream",
     "text": [
      "[3, 5, 7, 9, 15, 21, 25, 27, 33, 35, 39, 45, 49, 51, 55, 57, 63, 65, 69, 75, 77, 81, 85, 87, 91, 93, 95, 99]\n",
      "[2, 4, 6, 8, 10, 12, 14, 16, 18, 20, 22, 24, 26, 28, 30, 32, 34, 36, 38, 40, 42, 44, 46, 48, 50, 52, 54, 56, 58, 60, 62, 64, 66, 68, 70, 72, 74, 76, 78, 80, 82, 84, 86, 88, 90, 92, 94, 96, 98, 100]\n"
     ]
    }
   ],
   "source": [
    "l1=[]\n",
    "l2=[]\n",
    "for i in range(1,101):\n",
    "    if i%2!=0:\n",
    "        l1.append(i)\n",
    "    else:\n",
    "        l2.append(i)\n",
    "l3=[]\n",
    "l4=[]\n",
    "for i in range(len(l1)):\n",
    "    if l1[i]%3==0:\n",
    "        l3.append(l1[i])\n",
    "    elif l1[i]%5==0:\n",
    "        l3.append(l1[i])\n",
    "    elif l1[i]%7==0:\n",
    "        l3.append(l1[i])\n",
    "    elif l1[i]%9==0:\n",
    "        l3.append(l1[i])\n",
    "    elif l1[i]%4==0:\n",
    "        l3.append(l1[i])\n",
    "    elif l1[i]%6==0:\n",
    "        l3.append(l1[i])\n",
    "    elif l1[i]%8==0:\n",
    "        l3.append(l1[i])\n",
    "    elif l1[i]%10==0:\n",
    "        l3.append(l1[i])\n",
    "        \n",
    "    if l2[i]%3==0:\n",
    "        l4.append(l2[i])\n",
    "    elif l2[i]%5==0:\n",
    "        l4.append(l2[i])\n",
    "    elif l2[i]%7==0:\n",
    "        l4.append(l2[i])\n",
    "    elif l2[i]%9==0:\n",
    "        l4.append(l2[i])\n",
    "    elif l2[i]%4==0:\n",
    "        l4.append(l2[i])\n",
    "    elif l2[i]%6==0:\n",
    "        l4.append(l2[i])\n",
    "    elif l2[i]%8==0:\n",
    "        l4.append(l2[i])\n",
    "    elif l2[i]%10==0:\n",
    "        l4.append(l2[i])    \n",
    "    \n",
    "print(l3)\n",
    "print(l2)"
   ]
  }
 ],
 "metadata": {
  "kernelspec": {
   "display_name": "Python 3",
   "language": "python",
   "name": "python3"
  },
  "language_info": {
   "codemirror_mode": {
    "name": "ipython",
    "version": 3
   },
   "file_extension": ".py",
   "mimetype": "text/x-python",
   "name": "python",
   "nbconvert_exporter": "python",
   "pygments_lexer": "ipython3",
   "version": "3.6.5"
  }
 },
 "nbformat": 4,
 "nbformat_minor": 2
}
